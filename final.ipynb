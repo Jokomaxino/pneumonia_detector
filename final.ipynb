{
 "cells": [
  {
   "cell_type": "code",
   "execution_count": 1,
   "metadata": {},
   "outputs": [],
   "source": [
    "import tensorflow as tf\n",
    "import os\n",
    "import numpy as np\n",
    "from PIL import Image\n",
    "import matplotlib.pyplot as plt"
   ]
  },
  {
   "cell_type": "markdown",
   "metadata": {},
   "source": [
    "Helper Functions"
   ]
  },
  {
   "cell_type": "code",
   "execution_count": 2,
   "metadata": {},
   "outputs": [],
   "source": [
    "def images2ArrayList(sourceFolder, label, howMany):\n",
    "    '''converts images to arrays and returns them as list'''\n",
    "    os.chdir(sourceFolder)\n",
    "    filenames = os.listdir()\n",
    "    data = []\n",
    "    labels = [label for i in range(howMany)]\n",
    "    for i in range(howMany):\n",
    "        image = Image.open(filenames[i])\n",
    "        array = np.asarray(image)\n",
    "        data.append(array)\n",
    "    return data, labels\n",
    "\n",
    "def loadTrainTest(root):\n",
    "    '''loads the dataset'''\n",
    "    sourceFolder = root + '/200x200/NORMAL'\n",
    "    normal, normal_label = images2ArrayList(sourceFolder, 0, 1583)\n",
    "    sourceFolder = root + '/200x200/PNEUMONIA'\n",
    "    pneumonia, pneumonia_label = images2ArrayList(sourceFolder, 1, 4273)\n",
    "    images = normal + pneumonia\n",
    "    label = normal_label + pneumonia_label\n",
    "    return (np.array(images), np.array(label))"
   ]
  },
  {
   "cell_type": "markdown",
   "metadata": {},
   "source": [
    "Load The Dataset"
   ]
  },
  {
   "cell_type": "code",
   "execution_count": 3,
   "metadata": {},
   "outputs": [],
   "source": [
    "root = os.getcwd()\n",
    "\n",
    "x_train, y_train = loadTrainTest(root)\n",
    "x_train = x_train / 255   #normalize"
   ]
  },
  {
   "cell_type": "markdown",
   "metadata": {},
   "source": [
    "Build, compile and train the model"
   ]
  },
  {
   "cell_type": "code",
   "execution_count": 4,
   "metadata": {
    "scrolled": true
   },
   "outputs": [
    {
     "name": "stdout",
     "output_type": "stream",
     "text": [
      "Epoch 1/10\n",
      "183/183 [==============================] - 47s 254ms/step - loss: 0.3718 - accuracy: 0.8607 - precision: 0.8689 - recall: 0.9527\n",
      "Epoch 2/10\n",
      "183/183 [==============================] - 47s 257ms/step - loss: 0.2230 - accuracy: 0.9331 - precision: 0.9495 - recall: 0.9593\n",
      "Epoch 3/10\n",
      "183/183 [==============================] - 48s 261ms/step - loss: 0.2030 - accuracy: 0.9454 - precision: 0.9593 - recall: 0.9661\n",
      "Epoch 4/10\n",
      "183/183 [==============================] - 48s 261ms/step - loss: 0.1858 - accuracy: 0.9524 - precision: 0.9627 - recall: 0.9724\n",
      "Epoch 5/10\n",
      "183/183 [==============================] - 48s 265ms/step - loss: 0.1870 - accuracy: 0.9527 - precision: 0.9619 - recall: 0.9738\n",
      "Epoch 6/10\n",
      "183/183 [==============================] - 48s 262ms/step - loss: 0.1768 - accuracy: 0.9553 - precision: 0.9631 - recall: 0.9761\n",
      "Epoch 7/10\n",
      "183/183 [==============================] - 48s 265ms/step - loss: 0.1709 - accuracy: 0.9588 - precision: 0.9662 - recall: 0.9778\n",
      "Epoch 8/10\n",
      "183/183 [==============================] - 49s 266ms/step - loss: 0.1695 - accuracy: 0.9606 - precision: 0.9691 - recall: 0.9771\n",
      "Epoch 9/10\n",
      "183/183 [==============================] - 49s 266ms/step - loss: 0.1715 - accuracy: 0.9607 - precision: 0.9676 - recall: 0.9789\n",
      "Epoch 10/10\n",
      "183/183 [==============================] - 49s 266ms/step - loss: 0.1585 - accuracy: 0.9669 - precision: 0.9727 - recall: 0.9822\n"
     ]
    }
   ],
   "source": [
    "model = tf.keras.models.Sequential([\n",
    "\n",
    "#--------------------------conv layers--------------------------\n",
    "    #conv+maxpool: 200x200 => 100x100, 4 filters\n",
    "    tf.keras.layers.Conv2D(4, \n",
    "                           (3, 3), \n",
    "                           activation='relu',\n",
    "                           padding='same',\n",
    "                           input_shape=(200, 200,1)),\n",
    "    tf.keras.layers.MaxPooling2D((2, 2)),\n",
    "    \n",
    "    #conv+maxpool: 100x100 => 50x50, 8 filters\n",
    "    tf.keras.layers.Conv2D(8,\n",
    "                           (3, 3), \n",
    "                           activation='relu',\n",
    "                           padding='same',\n",
    "                           input_shape=(100, 100,1)),\n",
    "    tf.keras.layers.MaxPooling2D((2, 2)),\n",
    "    \n",
    "    #conv+maxpool: 50x50 => 25x25, 16 filters\n",
    "    tf.keras.layers.Conv2D(16,\n",
    "                           (3, 3), \n",
    "                           activation='relu',\n",
    "                           padding='same',\n",
    "                           input_shape=(50, 50,1)),\n",
    "    tf.keras.layers.MaxPooling2D((2, 2)),\n",
    "\n",
    "#------------------------dense layers-----------------------------------\n",
    "    tf.keras.layers.Flatten(),\n",
    "    tf.keras.layers.Dropout(.5),\n",
    "    \n",
    "    tf.keras.layers.Dense(400, \n",
    "                          activation='relu', \n",
    "                          kernel_regularizer=tf.keras.regularizers.l2(0.0001)), \n",
    "    tf.keras.layers.Dropout(.5),\n",
    "    \n",
    "    tf.keras.layers.Dense(100, \n",
    "                        activation='relu', \n",
    "                        kernel_regularizer=tf.keras.regularizers.l2(0.0001)), \n",
    "    tf.keras.layers.Dropout(.5),\n",
    "    \n",
    "    tf.keras.layers.Dense(1, activation='sigmoid')\n",
    "\n",
    "    \n",
    "])\n",
    "\n",
    "model.compile(optimizer='Adam',\n",
    "              loss='BinaryCrossentropy',\n",
    "              metrics=['accuracy', 'Precision', 'Recall'])\n",
    "history = model.fit(\n",
    "        x_train.reshape(len(x_train), 200, 200, 1), y_train, epochs=10)"
   ]
  },
  {
   "cell_type": "markdown",
   "metadata": {},
   "source": [
    "Accuracy and loss plot"
   ]
  },
  {
   "cell_type": "code",
   "execution_count": 5,
   "metadata": {
    "scrolled": true
   },
   "outputs": [
    {
     "data": {
      "image/png": "[encoded data removed]",
      "text/plain": [
       "<Figure size 432x288 with 1 Axes>"
      ]
     },
     "metadata": {
      "needs_background": "light"
     },
     "output_type": "display_data"
    },
    {
     "data": {
      "image/png": "[encoded data removed]",
      "text/plain": [
       "<Figure size 432x288 with 1 Axes>"
      ]
     },
     "metadata": {
      "needs_background": "light"
     },
     "output_type": "display_data"
    },
    {
     "data": {
      "image/png": "[encoded data removed]",
      "text/plain": [
       "<Figure size 432x288 with 1 Axes>"
      ]
     },
     "metadata": {
      "needs_background": "light"
     },
     "output_type": "display_data"
    },
    {
     "data": {
      "image/png": "[encoded data removed]",
      "text/plain": [
       "<Figure size 432x288 with 1 Axes>"
      ]
     },
     "metadata": {
      "needs_background": "light"
     },
     "output_type": "display_data"
    }
   ],
   "source": [
    "plt.plot(history.history['accuracy'], label='train')\n",
    "plt.xlabel('Epoch')\n",
    "plt.title('Accuracy')\n",
    "plt.legend(loc='lower right')\n",
    "plt.show()\n",
    "\n",
    "plt.plot(history.history['loss'], label='train')\n",
    "plt.xlabel('Epoch')\n",
    "plt.title('Loss')\n",
    "plt.legend()\n",
    "plt.show()\n",
    "\n",
    "plt.plot(history.history['precision'], label='train')\n",
    "plt.xlabel('Epoch')\n",
    "plt.title('Precision')\n",
    "plt.legend()\n",
    "plt.show()\n",
    "\n",
    "plt.plot(history.history['recall'], label='train')\n",
    "plt.xlabel('Epoch')\n",
    "plt.title('Recall')\n",
    "plt.legend()\n",
    "plt.show()"
   ]
  },
  {
   "cell_type": "code",
   "execution_count": 6,
   "metadata": {},
   "outputs": [
    {
     "name": "stdout",
     "output_type": "stream",
     "text": [
      "Model: \"sequential\"\n",
      "_________________________________________________________________\n",
      "Layer (type)                 Output Shape              Param #   \n",
      "=================================================================\n",
      "conv2d (Conv2D)              (None, 200, 200, 4)       40        \n",
      "_________________________________________________________________\n",
      "max_pooling2d (MaxPooling2D) (None, 100, 100, 4)       0         \n",
      "_________________________________________________________________\n",
      "conv2d_1 (Conv2D)            (None, 100, 100, 8)       296       \n",
      "_________________________________________________________________\n",
      "max_pooling2d_1 (MaxPooling2 (None, 50, 50, 8)         0         \n",
      "_________________________________________________________________\n",
      "conv2d_2 (Conv2D)            (None, 50, 50, 16)        1168      \n",
      "_________________________________________________________________\n",
      "max_pooling2d_2 (MaxPooling2 (None, 25, 25, 16)        0         \n",
      "_________________________________________________________________\n",
      "flatten (Flatten)            (None, 10000)             0         \n",
      "_________________________________________________________________\n",
      "dropout (Dropout)            (None, 10000)             0         \n",
      "_________________________________________________________________\n",
      "dense (Dense)                (None, 400)               4000400   \n",
      "_________________________________________________________________\n",
      "dropout_1 (Dropout)          (None, 400)               0         \n",
      "_________________________________________________________________\n",
      "dense_1 (Dense)              (None, 100)               40100     \n",
      "_________________________________________________________________\n",
      "dropout_2 (Dropout)          (None, 100)               0         \n",
      "_________________________________________________________________\n",
      "dense_2 (Dense)              (None, 1)                 101       \n",
      "=================================================================\n",
      "Total params: 4,042,105\n",
      "Trainable params: 4,042,105\n",
      "Non-trainable params: 0\n",
      "_________________________________________________________________\n"
     ]
    }
   ],
   "source": [
    "model.summary()"
   ]
  },
  {
   "cell_type": "markdown",
   "metadata": {},
   "source": [
    "Save model"
   ]
  },
  {
   "cell_type": "code",
   "execution_count": 7,
   "metadata": {},
   "outputs": [],
   "source": [
    "model.save(root + '/final.h5')"
   ]
  }
 ],
 "metadata": {
  "kernelspec": {
   "display_name": "Python 3",
   "language": "python",
   "name": "python3"
  },
  "language_info": {
   "codemirror_mode": {
    "name": "ipython",
    "version": 3
   },
   "file_extension": ".py",
   "mimetype": "text/x-python",
   "name": "python",
   "nbconvert_exporter": "python",
   "pygments_lexer": "ipython3",
   "version": "3.8.5"
  }
 },
 "nbformat": 4,
 "nbformat_minor": 4
}
